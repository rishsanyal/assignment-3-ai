{
 "cells": [
  {
   "cell_type": "markdown",
   "metadata": {},
   "source": [
    "# **Part 3: Document classification with Naive Bayes**\n",
    "\n",
    "# In this section, you'll implement your first \"real\" machine learning algorithm: Naive Bayes. \n",
    "# I've given you a lot of the basic machinery. We'll test out our algorithm on NLTK's movie_reviews dataset.\n",
    "\n",
    "# (10 points) nb.py contains most of the code for building a Naive Bayes classifier. You just need to complete classify, using log-likelihood to return a dictionary mapping categories (pos, neg) to their likelihoods. You will probably also want to add some functionality to the main.\n",
    "\n",
    "# (10 points) Next, we need to think about feature selection. This is a very important problem when we're dealing with text; if we can identify and properly weight the important features, we can greatly improve performance. I've provided some initial filters and transformations in filters.py, along with some code to allow you to dynamically reconfigure them.\n",
    "\n",
    "# Filters will return a token if it matches their filter, and False otherwise. For example, alphabetic filters words that contain only alphabetic characters, and stopword returns a token if it is not a stopword.\n",
    "\n",
    "# Transforms will take a token as input and return a new, transformed token. For example, trim() removes whitespace, and lowercase converts to lower case.\n",
    "\n",
    "# Look at the movie_reviews data - what do you see in there that might be helpful? Use this to create at least four additional filters or transforms that you think will improve the performance of Naive Bayes.\n",
    "\n",
    "# **(10 points)** Compare the performance of your classifier with and without feature selection on the movie_reviews data using five-fold cross-validation.\n",
    "# (you can either use sklearn, or your code from assignment 2.) Then compare this to the [NLTK implementation of Naive Bayes](https://www.nltk.org/book/ch06.html) using five-fold cross-validation. \n",
    "\n",
    "# In your writeup, add a paragraph that describes the most effective set of filters and transforms, and the accuracy you were able to achieve using these."
   ]
  },
  {
   "cell_type": "code",
   "execution_count": 2,
   "metadata": {},
   "outputs": [],
   "source": [
    "from nltk.corpus import movie_reviews\n",
    "\n",
    "dataset = movie_reviews"
   ]
  },
  {
   "cell_type": "code",
   "execution_count": null,
   "metadata": {},
   "outputs": [],
   "source": []
  }
 ],
 "metadata": {
  "kernelspec": {
   "display_name": "Python 3",
   "language": "python",
   "name": "python3"
  },
  "language_info": {
   "codemirror_mode": {
    "name": "ipython",
    "version": 3
   },
   "file_extension": ".py",
   "mimetype": "text/x-python",
   "name": "python",
   "nbconvert_exporter": "python",
   "pygments_lexer": "ipython3",
   "version": "3.9.6"
  },
  "orig_nbformat": 4
 },
 "nbformat": 4,
 "nbformat_minor": 2
}
